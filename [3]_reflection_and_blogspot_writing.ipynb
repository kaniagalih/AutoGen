{
 "cells": [
  {
   "cell_type": "markdown",
   "metadata": {},
   "source": [
    "Goal: Create agent that can help to write high quality blogpost and having agent to review the output "
   ]
  },
  {
   "cell_type": "markdown",
   "metadata": {},
   "source": [
    "# Setup"
   ]
  },
  {
   "cell_type": "code",
   "execution_count": 1,
   "metadata": {},
   "outputs": [],
   "source": [
    "# define llm \n",
    "llm_config = {\"model\": \"gpt-3.5-turbo\"}"
   ]
  },
  {
   "cell_type": "markdown",
   "metadata": {},
   "source": [
    "# The task"
   ]
  },
  {
   "cell_type": "code",
   "execution_count": 2,
   "metadata": {},
   "outputs": [],
   "source": [
    "task = '''\n",
    "        Write a concise but engaging blogspot about\n",
    "        Deeplearning.AI. Make sure the blogspot is within 100 words \n",
    "        '''"
   ]
  },
  {
   "cell_type": "markdown",
   "metadata": {},
   "source": [
    "# Create a writer agent "
   ]
  },
  {
   "cell_type": "code",
   "execution_count": 3,
   "metadata": {},
   "outputs": [],
   "source": [
    "import autogen \n",
    "\n",
    "# create writer agent \n",
    "writer = autogen.AssistantAgent(\n",
    "    name=\"Writer\",\n",
    "    system_message=\"You are a writer. You write engaging and concise\"\n",
    "    \"blogspot (with title) on given topics. You must polish your.\"\n",
    "    \"Writing based on the feedback you receive and give a refined version\"\n",
    "    \"Only return your fina work without addition comments.\",\n",
    "    llm_config=llm_config\n",
    ")"
   ]
  },
  {
   "cell_type": "code",
   "execution_count": 4,
   "metadata": {},
   "outputs": [],
   "source": [
    "# reply function, and input the task \n",
    "reply = writer.generate_reply(messages=[{\"content\": task, \"role\": \"user\"}])"
   ]
  },
  {
   "cell_type": "code",
   "execution_count": 5,
   "metadata": {},
   "outputs": [
    {
     "name": "stdout",
     "output_type": "stream",
     "text": [
      "Title: \"Unveiling the Power of Deeplearning.AI\"\n",
      "\n",
      "Unleash the transformative potential of AI with Deeplearning.AI! Offering cutting-edge courses in deep learning, Andrew Ng's platform equips learners with the skills to thrive in the AI era. From neural networks to machine learning algorithms, Deeplearning.AI demystifies complex concepts through engaging content and hands-on projects. Whether you're a novice or seasoned professional, this platform caters to all skill levels. Join a vibrant community of learners worldwide and embark on a journey of innovation and discovery. Elevate your career and unleash the power of AI with Deeplearning.AI today!\n"
     ]
    }
   ],
   "source": [
    "# print result \n",
    "print(reply)"
   ]
  },
  {
   "cell_type": "markdown",
   "metadata": {},
   "source": [
    "# Adding Reflection\n",
    "- Create a critic agent to reflect on the work of the writer agent "
   ]
  },
  {
   "cell_type": "code",
   "execution_count": 6,
   "metadata": {},
   "outputs": [],
   "source": [
    "# agent to give critic for the writer output \n",
    "critic = autogen.AssistantAgent(\n",
    "    name=\"Critic\",\n",
    "    is_termination_msg=lambda x: x.get(\"content\", \"\").find(\"TERMINATE\") >= 0,\n",
    "    llm_config = llm_config,\n",
    "    system_message=\"You are a critic. You review the work of \"\n",
    "    \"The writer and provide constructive\"\n",
    "    \"feedback to help improve the quality of the content.\"\n",
    ")"
   ]
  },
  {
   "cell_type": "code",
   "execution_count": 7,
   "metadata": {},
   "outputs": [
    {
     "name": "stdout",
     "output_type": "stream",
     "text": [
      "\u001b[33mCritic\u001b[0m (to Writer):\n",
      "\n",
      "\n",
      "        Write a concise but engaging blogspot about\n",
      "        Deeplearning.AI. Make sure the blogspot is within 100 words \n",
      "        \n",
      "\n",
      "--------------------------------------------------------------------------------\n",
      "\u001b[33mWriter\u001b[0m (to Critic):\n",
      "\n",
      "Title: Unveiling the Power of Deep Learning with Deeplearning.AI\n",
      "\n",
      "Dive into the world of AI with Deeplearning.AI, a leading platform revolutionizing the way we understand technology. Offering cutting-edge courses curated by experts like Andrew Ng, Deeplearning.AI equips learners with the skills to build AI systems that can interpret data, recognize patterns, and make informed decisions. Whether you're a beginner or an experienced professional, Deeplearning.AI offers a comprehensive learning experience that's both immersive and rewarding. Join today, and unlock your potential in the dynamic field of deep learning. Harness the power of AI with Deeplearning.AI and shape the future with innovation.\n",
      "\n",
      "--------------------------------------------------------------------------------\n",
      "\u001b[33mCritic\u001b[0m (to Writer):\n",
      "\n",
      "This blogspot effectively highlights the potential of Deeplearning.AI in the field of AI and deep learning. To enhance it further, consider including specific examples of successful applications or projects completed by learners through the platform. This would provide concrete evidence of its effectiveness and appeal to potential users. Additionally, mentioning any unique features or advantages of Deeplearning.AI compared to other platforms would help differentiate it and attract more interest. Overall, great content, but adding more tangible examples and comparative insights could make it even more impactful.\n",
      "\n",
      "--------------------------------------------------------------------------------\n",
      "\u001b[33mWriter\u001b[0m (to Critic):\n",
      "\n",
      "Title: Unleashing the Power of AI with Deeplearning.AI: A Game-Changer in Technology Education\n",
      "\n",
      "Take a deep dive into the realm of AI with Deeplearning.AI, a transformative platform that is reshaping the way we perceive technology. Led by industry expert Andrew Ng, Deeplearning.AI offers a range of courses designed to empower learners to create AI systems that can analyze data, identify patterns, and make informed decisions. From creating self-driving cars to developing advanced healthcare solutions, Deeplearning.AI equips individuals with the knowledge and skills needed to drive innovation across various industries. With its practical approach and real-world projects, Deeplearning.AI stands out as a premier platform for mastering the intricacies of deep learning. Join today and witness firsthand how Deeplearning.AI is shaping the future of technology.\n",
      "\n",
      "--------------------------------------------------------------------------------\n"
     ]
    }
   ],
   "source": [
    "# initiates interaction between agents \n",
    "res = critic.initiate_chat(\n",
    "    recipient=writer,\n",
    "    message=task,\n",
    "    max_turns=2,\n",
    "    summary_method=\"last_msg\"\n",
    ")"
   ]
  },
  {
   "cell_type": "markdown",
   "metadata": {},
   "source": [
    "# Nested Chat \n",
    "- Having 4 agent to review the blog post and each agent having specialized task "
   ]
  },
  {
   "cell_type": "code",
   "execution_count": 8,
   "metadata": {},
   "outputs": [],
   "source": [
    "SEO_reviewer = autogen.AssistantAgent(\n",
    "    name=\"SEO Reviewer\",\n",
    "    llm_config=llm_config,\n",
    "    system_message=\"You are an SEO reviewer known for your ability to optimize content for search angines\"\n",
    "    \"Ensuring that it ranks well and attartcs organic traffic.\"\n",
    "    \"Make sure your suggestion is consie (within 3 bullet points) concrete and to the point.\"\n",
    "    \"Begin the review by stating your role.\"\n",
    ")"
   ]
  },
  {
   "cell_type": "code",
   "execution_count": 9,
   "metadata": {},
   "outputs": [],
   "source": [
    "legal_reviewer = autogen.AssistantAgent(\n",
    "    name=\"Legal Reviewer\",\n",
    "    llm_config=llm_config,\n",
    "    system_message=\"You are a legal reviewer known for your ability to ensure that content is legally compliant\"\n",
    "    \"and free from any potential legal issues.\"\n",
    "    \"Make sure your suggestion is concise (within 3 bullet point) concrete and to the point\"\n",
    "    \"Begin the review by stating your role\"\n",
    ")"
   ]
  },
  {
   "cell_type": "code",
   "execution_count": 10,
   "metadata": {},
   "outputs": [],
   "source": [
    "ethics_reviewer = autogen.AssistantAgent(\n",
    "    name=\"Ethics Reviewer\",\n",
    "    llm_config=llm_config,\n",
    "    system_message=\"You are an ethics reviewer, known for your ability to ensure that content is ethically sound\"\n",
    "    \"and free from any potential ethical issues\"\n",
    "    \"Make sure your suggestion is concise (within 3 bullet point) concrete and to the point\"\n",
    "    \"Begin the review by stating your role\"\n",
    ")"
   ]
  },
  {
   "cell_type": "code",
   "execution_count": 11,
   "metadata": {},
   "outputs": [],
   "source": [
    "meta_reviewer = autogen.AssistantAgent(\n",
    "    name=\"Meta Reviewer\",\n",
    "    llm_config=llm_config,\n",
    "    system_message=\"You are a meta reviewer, you aggregate and review the work of other reviewers and give a final suggestion on the content.\"\n",
    ")"
   ]
  },
  {
   "cell_type": "markdown",
   "metadata": {},
   "source": [
    "# Orchestrate the nested chats to solve the task "
   ]
  },
  {
   "cell_type": "code",
   "execution_count": 16,
   "metadata": {},
   "outputs": [],
   "source": [
    "def reflection_message(recipient, messages, sender, config):\n",
    "    \"\"\"\n",
    "    Generates a reflection message for the recipient based on the last chat message.\n",
    "    \n",
    "    Returns:\n",
    "    - A string containing a message that asks the recipient to review the content \n",
    "      of the last message sent by the sender.\n",
    "    \"\"\"\n",
    "    \n",
    "    # Retrieve the last message content from the recipient's chat history\n",
    "    last_message_content = recipient.chat_messages_for_summary(sender)[-1]['content']\n",
    "    \n",
    "    # Format and return the review request message, including the last message content \n",
    "    return f''' Review the following content.\n",
    "            \\n\\n {last_message_content}'''\n",
    "            \n",
    "            \n",
    "# Define a list of review chat tasks to be executed -> used as critic \n",
    "review_chats = [\n",
    "   {\n",
    "     # The SEO Review agent responsible for the review \n",
    "     \"recipient\": SEO_reviewer, \n",
    "     \"message\": reflection_message, \n",
    "     \"summary_method\": \"reflection_with_llm\",\n",
    "     \"summary_args\": {\n",
    "        \"summary_prompt\" : \n",
    "           \"Return review into as JSON object only: {'Reviewer': '', 'Review': ''}. Here Reviewer should be your role\",\n",
    "      },\n",
    "     \"max_turns\": 1\n",
    "   },\n",
    "    \n",
    "   {\n",
    "      # The legal review agent responsible for the review \n",
    "      \"recipient\": legal_reviewer, \n",
    "      \"message\": reflection_message, \n",
    "      \"summary_method\": \"reflection_with_llm\",\n",
    "      \"summary_args\": {\n",
    "         \"summary_prompt\" : \"Return review into as JSON object only:{'Reviewer': '', 'Review': ''}.\",\n",
    "      },\n",
    "      \"max_turns\": 1\n",
    "    },\n",
    "   \n",
    "   {\n",
    "      # The ethics review agent responsible for the review \n",
    "      \"recipient\": ethics_reviewer, \n",
    "      \"message\": reflection_message, \n",
    "      \"summary_method\": \"reflection_with_llm\",\n",
    "      \"summary_args\": {\n",
    "         \"summary_prompt\" : \"Return review into as JSON object only: {'reviewer': '', 'review': ''}\",\n",
    "      },\n",
    "      \"max_turns\": 1\n",
    "   },\n",
    "   \n",
    "   {\n",
    "      # The meta review agent responsible for the aggregating feedback \n",
    "      \"recipient\": meta_reviewer, \n",
    "      \"message\": \"Aggregrate feedback from all reviewers and give final suggestions on the writing.\", \n",
    "      \"max_turns\": 1},\n",
    "]\n"
   ]
  },
  {
   "cell_type": "code",
   "execution_count": 13,
   "metadata": {},
   "outputs": [],
   "source": [
    "# registers a set of nested chat \"review_chats\" with critic agent \n",
    "critic.register_nested_chats(\n",
    "    review_chats,\n",
    "    trigger=writer, # The trigger for the nested chats\n",
    ")"
   ]
  },
  {
   "cell_type": "code",
   "execution_count": 14,
   "metadata": {},
   "outputs": [
    {
     "name": "stdout",
     "output_type": "stream",
     "text": [
      "\u001b[33mCritic\u001b[0m (to Writer):\n",
      "\n",
      "\n",
      "        Write a concise but engaging blogspot about\n",
      "        Deeplearning.AI. Make sure the blogspot is within 100 words \n",
      "        \n",
      "\n",
      "--------------------------------------------------------------------------------\n",
      "\u001b[33mWriter\u001b[0m (to Critic):\n",
      "\n",
      "Title: Unveiling the Power of Deep Learning with Deeplearning.AI\n",
      "\n",
      "Dive into the world of AI with Deeplearning.AI, a leading platform revolutionizing the way we understand technology. Offering cutting-edge courses curated by experts like Andrew Ng, Deeplearning.AI equips learners with the skills to build AI systems that can interpret data, recognize patterns, and make informed decisions. Whether you're a beginner or an experienced professional, Deeplearning.AI offers a comprehensive learning experience that's both immersive and rewarding. Join today, and unlock your potential in the dynamic field of deep learning. Harness the power of AI with Deeplearning.AI and shape the future with innovation.\n",
      "\n",
      "--------------------------------------------------------------------------------\n",
      "\u001b[34m\n",
      "********************************************************************************\u001b[0m\n",
      "\u001b[34mStarting a new chat....\u001b[0m\n",
      "\u001b[34m\n",
      "********************************************************************************\u001b[0m\n",
      "\u001b[33mCritic\u001b[0m (to SEO Reviewer):\n",
      "\n",
      " Review the following content.\n",
      "            \n",
      "\n",
      " Title: Unveiling the Power of Deep Learning with Deeplearning.AI\n",
      "\n",
      "Dive into the world of AI with Deeplearning.AI, a leading platform revolutionizing the way we understand technology. Offering cutting-edge courses curated by experts like Andrew Ng, Deeplearning.AI equips learners with the skills to build AI systems that can interpret data, recognize patterns, and make informed decisions. Whether you're a beginner or an experienced professional, Deeplearning.AI offers a comprehensive learning experience that's both immersive and rewarding. Join today, and unlock your potential in the dynamic field of deep learning. Harness the power of AI with Deeplearning.AI and shape the future with innovation.\n",
      "\n",
      "--------------------------------------------------------------------------------\n",
      "\u001b[33mSEO Reviewer\u001b[0m (to Critic):\n",
      "\n",
      "As an SEO reviewer, I recommend optimizing the content as follows:\n",
      "\n",
      "1. Incorporate relevant keywords: Include popular keywords related to deep learning, AI, online courses, Andrew Ng, and innovation to improve search engine visibility.\n",
      "\n",
      "2. Add meta title and description: Craft a compelling meta title and description using key phrases to enhance click-through rates in search results.\n",
      "\n",
      "3. Include internal links: Link relevant phrases to other pages on the Deeplearning.AI website to improve site structure and encourage visitors to explore more content.\n",
      "\n",
      "--------------------------------------------------------------------------------\n",
      "\u001b[34m\n",
      "********************************************************************************\u001b[0m\n",
      "\u001b[34mStarting a new chat....\u001b[0m\n",
      "\u001b[34m\n",
      "********************************************************************************\u001b[0m\n",
      "\u001b[33mCritic\u001b[0m (to Legal Reviewer):\n",
      "\n",
      " Review the following content.\n",
      "            \n",
      "\n",
      " Title: Unveiling the Power of Deep Learning with Deeplearning.AI\n",
      "\n",
      "Dive into the world of AI with Deeplearning.AI, a leading platform revolutionizing the way we understand technology. Offering cutting-edge courses curated by experts like Andrew Ng, Deeplearning.AI equips learners with the skills to build AI systems that can interpret data, recognize patterns, and make informed decisions. Whether you're a beginner or an experienced professional, Deeplearning.AI offers a comprehensive learning experience that's both immersive and rewarding. Join today, and unlock your potential in the dynamic field of deep learning. Harness the power of AI with Deeplearning.AI and shape the future with innovation.\n",
      "Context: \n",
      "\n",
      "\n",
      "--------------------------------------------------------------------------------\n"
     ]
    },
    {
     "name": "stderr",
     "output_type": "stream",
     "text": [
      "d:\\MINICONDA\\envs\\autogen_env\\Lib\\site-packages\\autogen\\agentchat\\conversable_agent.py:1258: UserWarning: Cannot extract summary using reflection_with_llm: Error code: 400 - {'error': {'message': \"Invalid 'messages[1].name': string does not match pattern. Expected a string that matches the pattern '^[a-zA-Z0-9_-]+$'.\", 'type': 'invalid_request_error', 'param': 'messages[1].name', 'code': 'invalid_value'}}. Using an empty str as summary.\n",
      "  warnings.warn(\n"
     ]
    },
    {
     "name": "stdout",
     "output_type": "stream",
     "text": [
      "\u001b[33mLegal Reviewer\u001b[0m (to Critic):\n",
      "\n",
      "As a legal reviewer, my suggestions for the provided content are:\n",
      "\n",
      "- Ensure compliance with intellectual property laws by verifying if any copyrighted material is being used without permission.\n",
      "- Check for proper use of trademarked terms such as \"Deeplearning.AI\" to avoid potential infringement issues.\n",
      "- Confirm that any claims made about the platform's offerings are accurate and supported by evidence to prevent false advertising accusations.\n",
      "\n",
      "--------------------------------------------------------------------------------\n",
      "\u001b[34m\n",
      "********************************************************************************\u001b[0m\n",
      "\u001b[34mStarting a new chat....\u001b[0m\n",
      "\u001b[34m\n",
      "********************************************************************************\u001b[0m\n",
      "\u001b[33mCritic\u001b[0m (to Ethics Reviewer):\n",
      "\n",
      " Review the following content.\n",
      "            \n",
      "\n",
      " Title: Unveiling the Power of Deep Learning with Deeplearning.AI\n",
      "\n",
      "Dive into the world of AI with Deeplearning.AI, a leading platform revolutionizing the way we understand technology. Offering cutting-edge courses curated by experts like Andrew Ng, Deeplearning.AI equips learners with the skills to build AI systems that can interpret data, recognize patterns, and make informed decisions. Whether you're a beginner or an experienced professional, Deeplearning.AI offers a comprehensive learning experience that's both immersive and rewarding. Join today, and unlock your potential in the dynamic field of deep learning. Harness the power of AI with Deeplearning.AI and shape the future with innovation.\n",
      "Context: \n",
      "\n",
      "\n",
      "\n",
      "--------------------------------------------------------------------------------\n",
      "\u001b[33mEthics Reviewer\u001b[0m (to Critic):\n",
      "\n",
      "As an ethics reviewer, I suggest the following regarding the content provided:\n",
      "\n",
      "Ensure that the claims made about Deeplearning.AI are backed up with evidence or references to maintain transparency and credibility.\n",
      "Consider disclosing any potential conflicts of interest if there are affiliations with Deeplearning.AI to maintain ethical transparency.\n",
      "Avoid making exaggerated or unrealistic promises about the outcomes or benefits of using Deeplearning.AI to avoid misleading the audience.\n",
      "\n",
      "--------------------------------------------------------------------------------\n",
      "\u001b[34m\n",
      "********************************************************************************\u001b[0m\n",
      "\u001b[34mStarting a new chat....\u001b[0m\n",
      "\u001b[34m\n",
      "********************************************************************************\u001b[0m\n",
      "\u001b[33mCritic\u001b[0m (to Meta Reviewer):\n",
      "\n",
      "Aggregrate feedback from all reviewers and give final suggestions on the writing.\n",
      "Context: \n",
      "\n",
      "\n",
      "\n",
      "\n",
      "--------------------------------------------------------------------------------\n",
      "\u001b[33mMeta Reviewer\u001b[0m (to Critic):\n",
      "\n",
      "After aggregating the feedback from multiple reviewers, it appears that the overall consensus is that the writing in the piece is strong and engaging. Reviewers praised the descriptive language, character development, and the overall flow of the story. However, some reviewers noted that there were a few instances of inconsistency in the plot and pacing that could be improved for better coherence.\n",
      "\n",
      "Final suggestions for the writer based on the feedback would be to pay attention to maintaining consistency in the plot and pacing throughout the piece. Additionally, further development of certain character arcs and ensuring that the descriptive language enhances the overall narrative without overshadowing it could be beneficial. Overall, the piece shows promise and with some refinement, it has the potential to be even more compelling.\n",
      "\n",
      "--------------------------------------------------------------------------------\n",
      "\u001b[33mCritic\u001b[0m (to Writer):\n",
      "\n",
      "After aggregating the feedback from multiple reviewers, it appears that the overall consensus is that the writing in the piece is strong and engaging. Reviewers praised the descriptive language, character development, and the overall flow of the story. However, some reviewers noted that there were a few instances of inconsistency in the plot and pacing that could be improved for better coherence.\n",
      "\n",
      "Final suggestions for the writer based on the feedback would be to pay attention to maintaining consistency in the plot and pacing throughout the piece. Additionally, further development of certain character arcs and ensuring that the descriptive language enhances the overall narrative without overshadowing it could be beneficial. Overall, the piece shows promise and with some refinement, it has the potential to be even more compelling.\n",
      "\n",
      "--------------------------------------------------------------------------------\n",
      "\u001b[33mWriter\u001b[0m (to Critic):\n",
      "\n",
      "Title: Unleashing the Power of Deeplearning.AI's Educational Platform\n",
      "\n",
      "Embark on an exhilarating journey into the realm of AI with Deeplearning.AI. Lead by industry expert Andrew Ng, this educational platform offers a gateway to unlocking the potential of deep learning. From understanding complex algorithms to building intelligent systems, Deeplearning.AI provides a comprehensive learning experience suitable for all skill levels. Whether you are a novice enthusiast or a seasoned professional, the curated courses will equip you with the skills needed to thrive in the ever-evolving field of artificial intelligence. Join the AI revolution with Deeplearning.AI and shape a future driven by innovation and knowledge.\n",
      "\n",
      "--------------------------------------------------------------------------------\n"
     ]
    }
   ],
   "source": [
    "# initiate a chat between agent (critic and writer)\n",
    "res = critic.initiate_chat(\n",
    "    recipient=writer,\n",
    "    message=task,\n",
    "    max_turns=2,\n",
    "    summary_method=\"last_msg\"\n",
    ")"
   ]
  },
  {
   "cell_type": "code",
   "execution_count": 15,
   "metadata": {},
   "outputs": [
    {
     "name": "stdout",
     "output_type": "stream",
     "text": [
      "Title: Unleashing the Power of Deeplearning.AI's Educational Platform\n",
      "\n",
      "Embark on an exhilarating journey into the realm of AI with Deeplearning.AI. Lead by industry expert Andrew Ng, this educational platform offers a gateway to unlocking the potential of deep learning. From understanding complex algorithms to building intelligent systems, Deeplearning.AI provides a comprehensive learning experience suitable for all skill levels. Whether you are a novice enthusiast or a seasoned professional, the curated courses will equip you with the skills needed to thrive in the ever-evolving field of artificial intelligence. Join the AI revolution with Deeplearning.AI and shape a future driven by innovation and knowledge.\n"
     ]
    }
   ],
   "source": [
    "# Get the summary \n",
    "print(res.summary)"
   ]
  }
 ],
 "metadata": {
  "kernelspec": {
   "display_name": "autogen_env",
   "language": "python",
   "name": "python3"
  },
  "language_info": {
   "codemirror_mode": {
    "name": "ipython",
    "version": 3
   },
   "file_extension": ".py",
   "mimetype": "text/x-python",
   "name": "python",
   "nbconvert_exporter": "python",
   "pygments_lexer": "ipython3",
   "version": "3.11.4"
  }
 },
 "nbformat": 4,
 "nbformat_minor": 2
}
